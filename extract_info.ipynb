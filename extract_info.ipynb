{
 "cells": [
  {
   "cell_type": "code",
   "execution_count": 1,
   "metadata": {},
   "outputs": [],
   "source": [
    "from dotenv import load_dotenv\n",
    "import os\n",
    "\n",
    "load_dotenv()\n",
    "\n",
    "OPENAI_API_KEY= os.environ.get(\"OPENAI_API_KEY\") \n",
    "GROQ_API_KEY= os.environ.get(\"GROQ_API_KEY\") "
   ]
  },
  {
   "cell_type": "markdown",
   "metadata": {},
   "source": [
    "### Selección de imagen"
   ]
  },
  {
   "cell_type": "code",
   "execution_count": null,
   "metadata": {},
   "outputs": [],
   "source": [
    "import base64\n",
    "\n",
    "# Function to encode the image\n",
    "def encode_image(image_path):\n",
    "  with open(image_path, \"rb\") as image_file:\n",
    "    return base64.b64encode(image_file.read()).decode('utf-8')\n",
    "  \n",
    "# Path to your image\n",
    "image_path = \"doc.png\"\n",
    "\n",
    "# Getting the base64 string\n",
    "base64_image = encode_image(image_path)"
   ]
  },
  {
   "cell_type": "markdown",
   "metadata": {},
   "source": [
    "### Esquema del objeto"
   ]
  },
  {
   "cell_type": "code",
   "execution_count": null,
   "metadata": {},
   "outputs": [],
   "source": [
    "from pydantic import BaseModel, Field\n",
    "\n",
    "class InfoDOM(BaseModel):\n",
    "    departamento: str = Field(description=\"Nombre del departamento\")\n",
    "    municipio: str = Field(description=\"Nombre del municipio\")\n",
    "    puesto: str = Field(description=\"Número del puesto\")\n",
    "    zona: str = Field(description=\"Número de la zona\")\n",
    "    mesa: str = Field(description=\"Número de la mesa\")\n",
    "    votosGustavo: int = Field(description=\"Número de votos para Gustavo Petro\")\n",
    "    votosIvan: int = Field(description=\"Número de votos para Ivan Duque\")\n",
    "    votosBlanco: int = Field(description=\"Número de votos en Blanco\")\n",
    "    votosNulos: int = Field(description=\"Número de votos en Nulos\")\n",
    "    votosNoMarcados: int = Field(description=\"Número de votos en No Marcados\")\n",
    "    votosTotal: int = Field(description=\"Número total de motos de la mesa\")\n",
    "    votosSufragantes: int = Field(description=\"Número total de votos sufragantes\")\n",
    "    votosUrna: int = Field(description=\"Número total de votos en la urna\")\n",
    "    votosIncinerados: int = Field(description=\"Número total de votos incinerados\")\n"
   ]
  },
  {
   "cell_type": "markdown",
   "metadata": {},
   "source": [
    "## Extracción de imágenes"
   ]
  },
  {
   "cell_type": "markdown",
   "metadata": {},
   "source": [
    "Mensajes"
   ]
  },
  {
   "cell_type": "markdown",
   "metadata": {},
   "source": [
    "### Modelo de OpenAI"
   ]
  },
  {
   "cell_type": "code",
   "execution_count": 49,
   "metadata": {},
   "outputs": [],
   "source": [
    "messages = [\n",
    "    {'role': 'system', \"content\" : f\"\"\"\n",
    "     You will extract text from the next image, where there are some votes for different political parties. \n",
    "     The text is in Spanish. The output should be in JSON format following the next structure:\n",
    "     {InfoDOM.schema()}\"\"\"},\n",
    "    {\n",
    "      \"role\": \"user\",\n",
    "      \"content\": [\n",
    "        {\"type\": \"text\", \"text\": \"Extract the information of this document\"},\n",
    "        {\n",
    "          \"type\": \"image_url\",\n",
    "          \"image_url\": {\n",
    "            \"url\":  f\"data:image/jpeg;base64,{base64_image}\"\n",
    "          },\n",
    "        },\n",
    "      ],\n",
    "    }\n",
    "]"
   ]
  },
  {
   "cell_type": "code",
   "execution_count": 58,
   "metadata": {},
   "outputs": [],
   "source": [
    "from openai import OpenAI\n",
    "\n",
    "def getClientOpenAI():\n",
    "    local = False\n",
    "    if local:\n",
    "        client = OpenAI(base_url=\"https://api.groq.com/openai/v1\", api_key=GROQ_API_KEY)\n",
    "        model = \"llama-3.2-11b-vision-preview\"\n",
    "    else:\n",
    "        client = OpenAI()\n",
    "        model = \"gpt-4o\"\n",
    "    return client, model\n",
    "\n",
    "client, model = getClientOpenAI()"
   ]
  },
  {
   "cell_type": "code",
   "execution_count": 60,
   "metadata": {},
   "outputs": [],
   "source": [
    "chat_completion = client.beta.chat.completions.parse(\n",
    "    model=model,\n",
    "    messages=messages,\n",
    "    temperature=0,\n",
    "    response_format=InfoDOM\n",
    "    # response_format={\"type\": \"json_object\"}#,\"json_schema\": {\"name\": \"info_votos\",\"schema\":InfoDOM.schema()}}\n",
    ")"
   ]
  },
  {
   "cell_type": "code",
   "execution_count": 61,
   "metadata": {},
   "outputs": [
    {
     "data": {
      "text/plain": [
       "{'departamento': 'Antioquia',\n",
       " 'municipio': 'Medellin',\n",
       " 'puesto': '01',\n",
       " 'zona': '01',\n",
       " 'mesa': '001',\n",
       " 'votosGustavo': 24,\n",
       " 'votosIvan': 164,\n",
       " 'votosBlanco': 1,\n",
       " 'votosNulos': 1,\n",
       " 'votosNoMarcados': 1,\n",
       " 'votosTotal': 191,\n",
       " 'votosSufragantes': 191,\n",
       " 'votosUrna': 191,\n",
       " 'votosIncinerados': 0}"
      ]
     },
     "execution_count": 61,
     "metadata": {},
     "output_type": "execute_result"
    }
   ],
   "source": [
    "import json\n",
    "\n",
    "json.loads(chat_completion.choices[0].message.content)"
   ]
  },
  {
   "cell_type": "markdown",
   "metadata": {},
   "source": [
    "### Usando GROQ y modelos locales"
   ]
  },
  {
   "cell_type": "code",
   "execution_count": null,
   "metadata": {},
   "outputs": [],
   "source": [
    "messages_groq = [\n",
    "    {\n",
    "      \"role\": \"user\",\n",
    "      \"content\": [\n",
    "        {\"type\": \"text\", \"text\": f\"\"\"\n",
    "     You will extract text from the next image, where there are some votes for different political parties. \n",
    "     The text is in Spanish. The output should be in JSON format following the next structure:\n",
    "     {InfoDOM.schema()}\"\"\"},\n",
    "        {\n",
    "          \"type\": \"image_url\",\n",
    "          \"image_url\": {\n",
    "            \"url\":  f\"data:image/jpeg;base64,{base64_image}\"\n",
    "          },\n",
    "        },\n",
    "      ],\n",
    "    }\n",
    "]"
   ]
  },
  {
   "cell_type": "code",
   "execution_count": 45,
   "metadata": {},
   "outputs": [],
   "source": [
    "from groq import Groq\n",
    "\n",
    "client_groq = Groq()\n",
    "\n",
    "chat_completion = client_groq.chat.completions.create(\n",
    "    messages=messages_groq,\n",
    "    model=model,\n",
    "    temperature=0,\n",
    "    response_format={\"type\": \"json_object\"}\n",
    ")"
   ]
  },
  {
   "cell_type": "code",
   "execution_count": 43,
   "metadata": {},
   "outputs": [
    {
     "name": "stdout",
     "output_type": "stream",
     "text": [
      "{\n",
      "   \"properties\": {\n",
      "      \"departamento\": {\n",
      "         \"description\": \"Nombre del departamento\",\n",
      "         \"title\": \"Departamento\",\n",
      "         \"type\": \"string\"\n",
      "      },\n",
      "      \"municipio\": {\n",
      "         \"description\": \"Nombre del municipio\",\n",
      "         \"title\": \"Municipio\",\n",
      "         \"type\": \"string\"\n",
      "      },\n",
      "      \"puesto\": {\n",
      "         \"description\": \"Número del puesto\",\n",
      "         \"title\": \"Puesto\",\n",
      "         \"type\": \"string\"\n",
      "      },\n",
      "      \"zona\": {\n",
      "         \"description\": \"Número de la zona\",\n",
      "         \"title\": \"Zona\",\n",
      "         \"type\": \"string\"\n",
      "      },\n",
      "      \"mesa\": {\n",
      "         \"description\": \"Número de la mesa\",\n",
      "         \"title\": \"Mesa\",\n",
      "         \"type\": \"string\"\n",
      "      },\n",
      "      \"votosGustavo\": {\n",
      "         \"description\": \"Número de votos para Gustavo Petro\",\n",
      "         \"title\": \"Votosgustavo\",\n",
      "         \"type\": \"integer\"\n",
      "      },\n",
      "      \"votosIvan\": {\n",
      "         \"description\": \"Número de votos para Ivan Duque\",\n",
      "         \"title\": \"Votosivan\",\n",
      "         \"type\": \"integer\"\n",
      "      },\n",
      "      \"votosBlanco\": {\n",
      "         \"description\": \"Número de votos en Blanco\",\n",
      "         \"title\": \"Votosblanco\",\n",
      "         \"type\": \"integer\"\n",
      "      },\n",
      "      \"votosNulos\": {\n",
      "         \"description\": \"Número de votos en Nulos\",\n",
      "         \"title\": \"Votosnulos\",\n",
      "         \"type\": \"integer\"\n",
      "      },\n",
      "      \"votosNoMarcados\": {\n",
      "         \"description\": \"Número de votos en No Marcados\",\n",
      "         \"title\": \"Votosnomarcados\",\n",
      "         \"type\": \"integer\"\n",
      "      },\n",
      "      \"votosTotal\": {\n",
      "         \"description\": \"Número total de motos de la mesa\",\n",
      "         \"title\": \"Votostotal\",\n",
      "         \"type\": \"integer\"\n",
      "      },\n",
      "      \"votosSufragantes\": {\n",
      "         \"description\": \"Número total de votos sufragantes\",\n",
      "         \"title\": \"Votossufragantes\",\n",
      "         \"type\": \"integer\"\n",
      "      },\n",
      "      \"votosUrna\": {\n",
      "         \"description\": \"Número total de votos en la urna\",\n",
      "         \"title\": \"Votosurna\",\n",
      "         \"type\": \"integer\"\n",
      "      },\n",
      "      \"votosIncinerados\": {\n",
      "         \"description\": \"Número total de votos incinerados\",\n",
      "         \"title\": \"Votosincinerados\",\n",
      "         \"type\": \"integer\"\n",
      "      }\n",
      "   },\n",
      "   \"required\": [\n",
      "      \"departamento\",\n",
      "      \"municipio\",\n",
      "      \"puesto\",\n",
      "      \"zona\",\n",
      "      \"mesa\",\n",
      "      \"votosGustavo\",\n",
      "      \"votosIvan\",\n",
      "      \"votosBlanco\",\n",
      "      \"votosNulos\",\n",
      "      \"votosNoMarcados\",\n",
      "      \"votosTotal\",\n",
      "      \"votosSufragantes\",\n",
      "      \"votosUrna\",\n",
      "      \"votosIncinerados\"\n",
      "   ],\n",
      "   \"title\": \"InfoDOM\",\n",
      "   \"type\": \"object\"\n",
      "}\n"
     ]
    }
   ],
   "source": [
    "print(chat_completion.choices[0].message.content)"
   ]
  }
 ],
 "metadata": {
  "kernelspec": {
   "display_name": ".venv",
   "language": "python",
   "name": "python3"
  },
  "language_info": {
   "codemirror_mode": {
    "name": "ipython",
    "version": 3
   },
   "file_extension": ".py",
   "mimetype": "text/x-python",
   "name": "python",
   "nbconvert_exporter": "python",
   "pygments_lexer": "ipython3",
   "version": "3.8.0"
  }
 },
 "nbformat": 4,
 "nbformat_minor": 2
}
